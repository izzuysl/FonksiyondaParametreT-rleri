{
 "cells": [
  {
   "cell_type": "code",
   "execution_count": 1,
   "id": "dcb4d036",
   "metadata": {},
   "outputs": [],
   "source": [
    "def selamla(isim):\n",
    "    print(\"Selam\",isim)"
   ]
  },
  {
   "cell_type": "code",
   "execution_count": 2,
   "id": "68f71866",
   "metadata": {},
   "outputs": [
    {
     "name": "stdout",
     "output_type": "stream",
     "text": [
      "Selam İzel\n"
     ]
    }
   ],
   "source": [
    "selamla(\"İzel\")"
   ]
  },
  {
   "cell_type": "code",
   "execution_count": 3,
   "id": "7a8411d0",
   "metadata": {},
   "outputs": [
    {
     "name": "stdout",
     "output_type": "stream",
     "text": [
      "Selam Elif\n"
     ]
    }
   ],
   "source": [
    "selamla(\"Elif\")"
   ]
  },
  {
   "cell_type": "code",
   "execution_count": 7,
   "id": "a72eeb3e",
   "metadata": {},
   "outputs": [],
   "source": [
    "def selamla(isim = \"İsimsiz\"):\n",
    "    print(\"Selam\",isim)"
   ]
  },
  {
   "cell_type": "code",
   "execution_count": 8,
   "id": "68a67040",
   "metadata": {},
   "outputs": [
    {
     "name": "stdout",
     "output_type": "stream",
     "text": [
      "Selam İsimsiz\n"
     ]
    }
   ],
   "source": [
    "selamla()"
   ]
  },
  {
   "cell_type": "code",
   "execution_count": 9,
   "id": "b10e402f",
   "metadata": {},
   "outputs": [],
   "source": [
    "def bilgilerigoster(ad,soyad,numara):\n",
    "    print(\"Ad:\",ad,\"Soyad:\",soyad,\"Numara:\",numara)"
   ]
  },
  {
   "cell_type": "code",
   "execution_count": 11,
   "id": "547a2f5c",
   "metadata": {},
   "outputs": [
    {
     "name": "stdout",
     "output_type": "stream",
     "text": [
      "Ad: Yıldız Soyad: Tilbe Numara: 12345\n"
     ]
    }
   ],
   "source": [
    "bilgilerigoster(\"Yıldız\",\"Tilbe\",\"12345\")"
   ]
  },
  {
   "cell_type": "code",
   "execution_count": 13,
   "id": "58ce6bad",
   "metadata": {},
   "outputs": [],
   "source": [
    "def bilgilerigoster(ad = \"Bilgi yok\",soyad = \"Bilgi yok\",numara = \"Bilgi yok\"):\n",
    "    print(\"Ad:\",ad,\"Soyad:\",soyad,\"Numara:\",numara)\n"
   ]
  },
  {
   "cell_type": "code",
   "execution_count": 14,
   "id": "9f7be460",
   "metadata": {},
   "outputs": [
    {
     "name": "stdout",
     "output_type": "stream",
     "text": [
      "Ad: Bilgi yok Soyad: Bilgi yok Numara: Bilgi yok\n"
     ]
    }
   ],
   "source": [
    "bilgilerigoster()"
   ]
  },
  {
   "cell_type": "code",
   "execution_count": 15,
   "id": "e544b1be",
   "metadata": {},
   "outputs": [
    {
     "name": "stdout",
     "output_type": "stream",
     "text": [
      "Ad: İzel Soyad: Uysal Numara: Bilgi yok\n"
     ]
    }
   ],
   "source": [
    "bilgilerigoster(\"İzel\",\"Uysal\")"
   ]
  },
  {
   "cell_type": "code",
   "execution_count": 16,
   "id": "33b3b779",
   "metadata": {},
   "outputs": [
    {
     "name": "stdout",
     "output_type": "stream",
     "text": [
      "Ad: Bilgi yok Soyad: Bilgi yok Numara: 12345\n"
     ]
    }
   ],
   "source": [
    "bilgilerigoster(numara = \"12345\")"
   ]
  },
  {
   "cell_type": "code",
   "execution_count": 17,
   "id": "bf8ef2d0",
   "metadata": {},
   "outputs": [
    {
     "name": "stdout",
     "output_type": "stream",
     "text": [
      "Sezen Aksu\n"
     ]
    }
   ],
   "source": [
    "print(\"Sezen\",\"Aksu\")"
   ]
  },
  {
   "cell_type": "code",
   "execution_count": 19,
   "id": "aa9f3f91",
   "metadata": {},
   "outputs": [
    {
     "name": "stdout",
     "output_type": "stream",
     "text": [
      "Mustafa/Mert/Korkmaz\n"
     ]
    }
   ],
   "source": [
    "print(\"Mustafa\",\"Mert\",\"Korkmaz\",sep = \"/\")"
   ]
  },
  {
   "cell_type": "code",
   "execution_count": 21,
   "id": "dfdb8e9d",
   "metadata": {},
   "outputs": [
    {
     "name": "stdout",
     "output_type": "stream",
     "text": [
      "Help on built-in function print in module builtins:\n",
      "\n",
      "print(...)\n",
      "    print(value, ..., sep=' ', end='\\n', file=sys.stdout, flush=False)\n",
      "    \n",
      "    Prints the values to a stream, or to sys.stdout by default.\n",
      "    Optional keyword arguments:\n",
      "    file:  a file-like object (stream); defaults to the current sys.stdout.\n",
      "    sep:   string inserted between values, default a space.\n",
      "    end:   string appended after the last value, default a newline.\n",
      "    flush: whether to forcibly flush the stream.\n",
      "\n"
     ]
    }
   ],
   "source": [
    "help(print)"
   ]
  },
  {
   "cell_type": "code",
   "execution_count": 23,
   "id": "a86542a2",
   "metadata": {},
   "outputs": [],
   "source": [
    "def toplama(*a):\n",
    "    print(a)"
   ]
  },
  {
   "cell_type": "code",
   "execution_count": 24,
   "id": "f4b06589",
   "metadata": {},
   "outputs": [
    {
     "name": "stdout",
     "output_type": "stream",
     "text": [
      "(1, 2, 3)\n"
     ]
    }
   ],
   "source": [
    "toplama(1,2,3)"
   ]
  },
  {
   "cell_type": "code",
   "execution_count": 25,
   "id": "a401b01b",
   "metadata": {},
   "outputs": [
    {
     "name": "stdout",
     "output_type": "stream",
     "text": [
      "(3, 4, 5, 6, 7)\n"
     ]
    }
   ],
   "source": [
    "toplama(3,4,5,6,7)"
   ]
  },
  {
   "cell_type": "code",
   "execution_count": 26,
   "id": "1eedba97",
   "metadata": {},
   "outputs": [],
   "source": [
    "def toplama(*a):\n",
    "    toplam = 0\n",
    "    for İ in a:\n",
    "        toplam += İ\n",
    "    print(toplam)    "
   ]
  },
  {
   "cell_type": "code",
   "execution_count": 27,
   "id": "6e08f245",
   "metadata": {},
   "outputs": [
    {
     "name": "stdout",
     "output_type": "stream",
     "text": [
      "6\n"
     ]
    }
   ],
   "source": [
    "toplama(1,2,3)"
   ]
  },
  {
   "cell_type": "code",
   "execution_count": 28,
   "id": "20cd88ee",
   "metadata": {},
   "outputs": [
    {
     "name": "stdout",
     "output_type": "stream",
     "text": [
      "Murat\n"
     ]
    }
   ],
   "source": [
    "print(\"Murat\")"
   ]
  }
 ],
 "metadata": {
  "kernelspec": {
   "display_name": "Python 3 (ipykernel)",
   "language": "python",
   "name": "python3"
  },
  "language_info": {
   "codemirror_mode": {
    "name": "ipython",
    "version": 3
   },
   "file_extension": ".py",
   "mimetype": "text/x-python",
   "name": "python",
   "nbconvert_exporter": "python",
   "pygments_lexer": "ipython3",
   "version": "3.9.7"
  }
 },
 "nbformat": 4,
 "nbformat_minor": 5
}
